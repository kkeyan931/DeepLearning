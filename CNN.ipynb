{
 "cells": [
  {
   "cell_type": "markdown",
   "metadata": {
    "id": "M753lNvGi0yA"
   },
   "source": [
    "# DEEP LEARNING TECHNIQUES\n",
    "\n",
    "\n",
    "---\n",
    "\n",
    "### Karthikeyan K\n",
    "\n",
    "2018103549\n",
    "\n",
    "N - Batch\n",
    "\n",
    "\n",
    "---\n",
    "\n",
    "**Image Classification using CNN**\n",
    "\n",
    "**DataSet** : MNIST Handwriting recognition\n",
    "\n",
    "\n",
    "---\n",
    "\n"
   ]
  },
  {
   "cell_type": "markdown",
   "metadata": {},
   "source": [
    "## Theory of ANN\n",
    "\n",
    "In deep learning, a convolutional neural network (CNN, or ConvNet) is a class of artificial neural network, most commonly applied to analyze visual imagery. They are also known as shift invariant or space invariant artificial neural networks (SIANN), based on the shared-weight architecture of the convolution kernels or filters that slide along input features and provide translation equivariant responses known as feature maps. Counter-intuitively, most convolutional neural networks are only equivariant, as opposed to invariant, to translation.They have applications in image and video recognition, recommender systems, image classification, image segmentation, medical image analysis, natural language processing, brain-computer interfaces, and financial time series.\n",
    "\n",
    "CNNs are regularized versions of multilayer perceptrons. Multilayer perceptrons usually mean fully connected networks, that is, each neuron in one layer is connected to all neurons in the next layer. The \"full connectivity\" of these networks make them prone to overfitting data. Typical ways of regularization, or preventing overfitting, include: penalizing parameters during training (such as weight decay) or trimming connectivity (skipped connections, dropout, etc.) CNNs take a different approach towards regularization: they take advantage of the hierarchical pattern in data and assemble patterns of increasing complexity using smaller and simpler patterns embossed in their filters. Therefore, on a scale of connectivity and complexity, CNNs are on the lower extreme.\n"
   ]
  },
  {
   "cell_type": "code",
   "execution_count": 61,
   "metadata": {
    "id": "hb1VK9Vniwi8"
   },
   "outputs": [],
   "source": [
    "# Import All the necessary components\n",
    "from tensorflow.keras.datasets import mnist\n",
    "from tensorflow.keras.utils import to_categorical\n",
    "from tensorflow.keras.models import load_model\n",
    "from tensorflow.keras.models import Sequential\n",
    "from tensorflow.keras.layers import Conv2D\n",
    "from tensorflow.keras.layers import MaxPooling2D\n",
    "from tensorflow.keras.layers import Dense\n",
    "from tensorflow.keras.layers import Flatten\n",
    "from matplotlib import pyplot as plt\n",
    "from sklearn.model_selection import KFold\n",
    "from numpy import mean\n",
    "from numpy import std,argmax\n",
    "from tensorflow.keras.optimizers import SGD"
   ]
  },
  {
   "cell_type": "markdown",
   "metadata": {},
   "source": [
    "### Train and Test Data Split\n",
    "\n",
    "The train-test split is a technique for evaluating the performance of a machine learning algorithm.\n",
    "\n",
    "It can be used for classification or regression problems and can be used for any supervised learning algorithm.\n",
    "\n",
    "The procedure involves taking a dataset and dividing it into two subsets. The first subset is used to fit the model and is referred to as the training dataset. The second subset is not used to train the model; instead, the input element of the dataset is provided to the model, then predictions are made and compared to the expected values. This second dataset is referred to as the test dataset.\n",
    "\n",
    "Train Dataset: Used to fit the machine learning model.\n",
    "Test Dataset: Used to evaluate the fit machine learning model.\n"
   ]
  },
  {
   "cell_type": "code",
   "execution_count": 1,
   "metadata": {
    "id": "-bT1izc4kQmd"
   },
   "outputs": [],
   "source": [
    "def getSplitDataSet():\n",
    "\t# load dataset\n",
    "\t(trainX, trainY), (testX, testY) = mnist.load_data()\n",
    " \n",
    "\ttrainX = trainX.reshape((trainX.shape[0], 28, 28, 1))\n",
    "\ttestX = testX.reshape((testX.shape[0], 28, 28, 1))\n",
    " \n",
    "\ttrainY = to_categorical(trainY)\n",
    "\ttestY = to_categorical(testY)\n",
    " \n",
    "\treturn trainX, trainY, testX, testY"
   ]
  },
  {
   "cell_type": "markdown",
   "metadata": {},
   "source": [
    "### Normalizing the Images"
   ]
  },
  {
   "cell_type": "code",
   "execution_count": 2,
   "metadata": {
    "id": "gGeXAK9Tkhdi"
   },
   "outputs": [],
   "source": [
    "def normalizeImages(train, test):\n",
    "\ttrain_norm = train.astype('float32')\n",
    "\ttest_norm = test.astype('float32')\n",
    "\n",
    "\ttrain_norm = train_norm / 255.0\n",
    "\ttest_norm = test_norm / 255.0\n",
    "\n",
    "\treturn train_norm, test_norm"
   ]
  },
  {
   "cell_type": "code",
   "execution_count": 3,
   "metadata": {
    "id": "E5i7jHJRkvLm"
   },
   "outputs": [],
   "source": [
    "def getCNNModel():\n",
    "\tmodel = Sequential()\n",
    "\tmodel.add(Conv2D(32, (3, 3), activation='relu', kernel_initializer='he_uniform', input_shape=(28, 28, 1)))\n",
    "\tmodel.add(MaxPooling2D((2, 2)))\n",
    "\tmodel.add(Conv2D(64, (3, 3), activation='relu', kernel_initializer='he_uniform'))\n",
    "\tmodel.add(Conv2D(64, (3, 3), activation='relu', kernel_initializer='he_uniform'))\n",
    "\tmodel.add(MaxPooling2D((2, 2)))\n",
    "\tmodel.add(Flatten())\n",
    "\tmodel.add(Dense(100, activation='relu', kernel_initializer='he_uniform'))\n",
    "\tmodel.add(Dense(10, activation='softmax'))\n",
    "\t\n",
    "\topt = SGD(learning_rate=0.01, momentum=0.9)\n",
    "\tmodel.compile(optimizer=opt, loss='categorical_crossentropy', metrics=['accuracy'])\n",
    " \n",
    "\treturn model"
   ]
  },
  {
   "cell_type": "markdown",
   "metadata": {},
   "source": [
    "### Training the Model\n",
    "\n",
    "### Epoch\n",
    "\n",
    "In terms of artificial neural networks, an epoch refers to one cycle through the full training dataset. Usually, training a neural network takes more than a few epochs. In other words, if we feed a neural network the training data for more than one epoch in different patterns, we hope for a better generalization when given a new \"unseen\" input (test data). An epoch is often mixed up with an iteration"
   ]
  },
  {
   "cell_type": "code",
   "execution_count": null,
   "metadata": {
    "colab": {
     "base_uri": "https://localhost:8080/"
    },
    "id": "VHQIMblDk4F_",
    "outputId": "57cda730-246f-46e0-c1ea-227806e2c125"
   },
   "outputs": [
    {
     "name": "stdout",
     "output_type": "stream",
     "text": [
      "Epoch 1/10\n",
      "1875/1875 [==============================] - 83s 44ms/step - loss: 0.1242 - accuracy: 0.9610\n",
      "Epoch 2/10\n",
      "1875/1875 [==============================] - 83s 44ms/step - loss: 0.0441 - accuracy: 0.9862\n",
      "Epoch 3/10\n",
      "1875/1875 [==============================] - 83s 44ms/step - loss: 0.0296 - accuracy: 0.9905\n",
      "Epoch 4/10\n",
      "1875/1875 [==============================] - 83s 44ms/step - loss: 0.0212 - accuracy: 0.9932\n",
      "Epoch 5/10\n",
      "1875/1875 [==============================] - 84s 45ms/step - loss: 0.0153 - accuracy: 0.9955\n",
      "Epoch 6/10\n",
      "1875/1875 [==============================] - 84s 45ms/step - loss: 0.0119 - accuracy: 0.9963\n",
      "Epoch 7/10\n",
      "1875/1875 [==============================] - 83s 44ms/step - loss: 0.0082 - accuracy: 0.9974\n",
      "Epoch 8/10\n",
      "1875/1875 [==============================] - 81s 43ms/step - loss: 0.0060 - accuracy: 0.9982\n",
      "Epoch 9/10\n",
      "1875/1875 [==============================] - 81s 43ms/step - loss: 0.0046 - accuracy: 0.9986\n",
      "Epoch 10/10\n",
      "1875/1875 [==============================] - 81s 43ms/step - loss: 0.0034 - accuracy: 0.9989\n",
      "Classification Accuracy is 99.150\n"
     ]
    },
    {
     "data": {
      "text/plain": [
       "<keras.engine.sequential.Sequential at 0x7fd581b08990>"
      ]
     },
     "execution_count": 23,
     "metadata": {},
     "output_type": "execute_result"
    }
   ],
   "source": [
    "def classify():\n",
    "  trainX, trainY, testX, testY = getSplitDataSet()\n",
    "  trainX, testX = normalizeImages(trainX, testX)\n",
    "\n",
    "  model = getCNNModel()\n",
    "  model.fit(trainX, trainY, epochs=10, batch_size=32)\n",
    "\n",
    "  model.save(\"model.h5\")\n",
    "  model=load_model(\"model.h5\")\n",
    "  _, acc = model.evaluate(testX, testY, verbose=0)\n",
    "  print('Classification Accuracy is %.3f' % (acc * 100.0))\n",
    "\n",
    "  return model\n",
    "\n",
    "classify()"
   ]
  },
  {
   "cell_type": "markdown",
   "metadata": {},
   "source": [
    "### Evaluating the Model"
   ]
  },
  {
   "cell_type": "code",
   "execution_count": null,
   "metadata": {
    "id": "XpKWXJfpneQX"
   },
   "outputs": [],
   "source": [
    "def evaluateModel(n_folds=5):\n",
    "  scores, histories = list(), list()\n",
    "  # prepare cross validation\n",
    "  dataX, dataY, testX, testY = getSplitDataSet()\n",
    "  dataX, testX = normalizeImages(dataX, testX)\n",
    "\n",
    "  kfold = KFold(n_folds, shuffle=True, random_state=1)\n",
    "  # enumerate splits\n",
    "  for train_ix, test_ix in kfold.split(dataX):\n",
    "    # define model\n",
    "    model = getCNNModel()\n",
    "    # select rows for train and test\n",
    "    trainX, trainY, testX, testY = dataX[train_ix], dataY[train_ix], dataX[test_ix], dataY[test_ix]\n",
    "    # fit model\n",
    "    history = model.fit(trainX, trainY, epochs=10, batch_size=32, validation_data=(testX, testY),verbose=0)\n",
    "    # evaluate model\n",
    "    _, acc = model.evaluate(testX, testY, verbose=0)\n",
    "    print('Accuracy : %.3f' % (acc * 100.0))\n",
    "    # stores scores\n",
    "    scores.append(acc)\n",
    "    histories.append(history)\n",
    "  return scores, histories\n",
    "\n",
    "def getGraph(histories):\n",
    "\tfor i in range(len(histories)):\n",
    "\t\t# plot loss\n",
    "\t\tplt.subplot(3, 1, 1)\n",
    "\t\tplt.title('Cross Entropy Loss')\n",
    "\t\tplt.plot(histories[i].history['loss'], color='blue', label='train')\n",
    "\t\tplt.plot(histories[i].history['val_loss'], color='orange', label='test')\n",
    "\t\t# plot accuracy\n",
    "\t\tplt.subplot(3, 1, 3)\n",
    "\t\tplt.title('Classification Accuracy')\n",
    "\t\tplt.plot(histories[i].history['accuracy'], color='blue', label='train')\n",
    "\t\tplt.plot(histories[i].history['val_accuracy'], color='orange', label='test')\n",
    "\tplt.show()\n",
    "\n",
    "def getPerformance(scores):\n",
    "\t# print summary\n",
    "\tprint('Accuracy: mean=%.3f std=%.3f, n=%d' % (mean(scores)*100, std(scores)*100, len(scores)))\n",
    "\t# box and whisker plots of results\n",
    "\tplt.boxplot(scores)\n",
    "\tplt.show()"
   ]
  },
  {
   "cell_type": "code",
   "execution_count": null,
   "metadata": {
    "id": "DSzdWxkQoWD4"
   },
   "outputs": [],
   "source": [
    "from numpy import argmax\n",
    "from keras.preprocessing.image import load_img\n",
    "from keras.preprocessing.image import img_to_array\n",
    "from keras.models import load_model\n",
    "\n",
    "def getImage(filename):\n",
    "\t# load the image\n",
    "\timg = load_img(filename, grayscale=True, target_size=(28, 28))\n",
    "\t# convert to array\n",
    "\timg = img_to_array(img)\n",
    "\t# reshape into a single sample with 1 channel\n",
    "\timg = img.reshape(1, 28, 28, 1)\n",
    "\t# prepare pixel data\n",
    "\timg = img.astype('float32')\n",
    "\timg = img / 255.0\n",
    "\treturn img\n",
    "\n",
    "def getResult():\n",
    "\timg = load_image('test_image.webp')\n",
    "\tmodel = load_model('model.h5')\n",
    "\tpredict_value = model.predict(img)\n",
    "\tdigit = argmax(predict_value)\n",
    "\tprint(digit)"
   ]
  },
  {
   "cell_type": "code",
   "execution_count": null,
   "metadata": {
    "colab": {
     "base_uri": "https://localhost:8080/",
     "height": 320
    },
    "id": "TSBeMf4HpbTn",
    "outputId": "597e6d6a-f2d1-457b-8e27-c5d79be09cf2"
   },
   "outputs": [
    {
     "name": "stdout",
     "output_type": "stream",
     "text": [
      "Train: X=(60000, 28, 28), y=(60000,)\n",
      "Test: X=(10000, 28, 28), y=(10000,)\n",
      "Sample Images from the dataset\n"
     ]
    },
    {
     "data": {
      "image/png": "[encoded data removed]",
      "text/plain": [
       "<Figure size 432x288 with 9 Axes>"
      ]
     },
     "metadata": {},
     "output_type": "display_data"
    }
   ],
   "source": [
    "(trainX, trainY), (testX, testY) = mnist.load_data()\n",
    "# summarize loaded dataset\n",
    "print('Train: X=%s, y=%s' % (trainX.shape, trainY.shape))\n",
    "print('Test: X=%s, y=%s' % (testX.shape, testY.shape))\n",
    "print(\"Sample Images from the dataset\")\n",
    "\n",
    "for i in range(9):\n",
    "\tplt.subplot(330 + 1 + i)\n",
    "\tplt.imshow(trainX[i], cmap=plt.get_cmap('gray'))"
   ]
  },
  {
   "cell_type": "markdown",
   "metadata": {},
   "source": [
    "### Accuracy of the Model"
   ]
  },
  {
   "cell_type": "code",
   "execution_count": null,
   "metadata": {
    "colab": {
     "base_uri": "https://localhost:8080/"
    },
    "id": "1w5d31o4pr0S",
    "outputId": "72817c72-efe8-4b8b-9615-2b3f657d6ba6"
   },
   "outputs": [
    {
     "name": "stdout",
     "output_type": "stream",
     "text": [
      "Accuracy : 99.075\n",
      "Accuracy : 98.883\n",
      "Accuracy : 98.917\n",
      "Accuracy : 99.242\n",
      "Accuracy : 98.967\n"
     ]
    }
   ],
   "source": [
    "scores,histories=evaluateModel()"
   ]
  },
  {
   "cell_type": "markdown",
   "metadata": {},
   "source": [
    "### Cross Entropy\n",
    "\n",
    "Cross-entropy is a measure from the field of information theory, building upon entropy and generally calculating the difference between two probability distributions. It is closely related to but is different from KL divergence that calculates the relative entropy between two probability distributions, whereas cross-entropy can be thought to calculate the total entropy between the distributions.\n"
   ]
  },
  {
   "cell_type": "code",
   "execution_count": null,
   "metadata": {
    "colab": {
     "base_uri": "https://localhost:8080/",
     "height": 601
    },
    "id": "M0s12Qc19f71",
    "outputId": "fc51849c-7b2c-429d-80c8-71843f31280e"
   },
   "outputs": [
    {
     "name": "stderr",
     "output_type": "stream",
     "text": [
      "/usr/local/lib/python3.7/dist-packages/ipykernel_launcher.py:27: MatplotlibDeprecationWarning: Adding an axes using the same arguments as a previous axes currently reuses the earlier instance.  In a future version, a new instance will always be created and returned.  Meanwhile, this warning can be suppressed, and the future behavior ensured, by passing a unique label to each axes instance.\n",
      "/usr/local/lib/python3.7/dist-packages/ipykernel_launcher.py:32: MatplotlibDeprecationWarning: Adding an axes using the same arguments as a previous axes currently reuses the earlier instance.  In a future version, a new instance will always be created and returned.  Meanwhile, this warning can be suppressed, and the future behavior ensured, by passing a unique label to each axes instance.\n"
     ]
    },
    {
     "data": {
      "image/png": "[encoded data removed]",
      "text/plain": [
       "<Figure size 432x288 with 2 Axes>"
      ]
     },
     "metadata": {},
     "output_type": "display_data"
    },
    {
     "name": "stdout",
     "output_type": "stream",
     "text": [
      "Accuracy: mean=99.017 std=0.130, n=5\n"
     ]
    },
    {
     "data": {
      "image/png": "[encoded data removed]",
      "text/plain": [
       "<Figure size 432x288 with 1 Axes>"
      ]
     },
     "metadata": {},
     "output_type": "display_data"
    }
   ],
   "source": [
    "getGraph(histories)\n",
    "getPerformance(scores)"
   ]
  },
  {
   "cell_type": "markdown",
   "metadata": {},
   "source": [
    "### Prediction\n",
    "\n",
    "After Training and Evaluating the Model, it is used to predict the the unknown data"
   ]
  },
  {
   "cell_type": "code",
   "execution_count": 59,
   "metadata": {
    "colab": {
     "base_uri": "https://localhost:8080/",
     "height": 321
    },
    "id": "FO2b51k5Knb3",
    "outputId": "4de5e1d3-9d50-4fe2-ed22-3b50851cb6a8"
   },
   "outputs": [
    {
     "name": "stdout",
     "output_type": "stream",
     "text": [
      "Predicted Result\n",
      "7\n",
      "Test Image\n"
     ]
    },
    {
     "data": {
      "image/png": "[encoded data removed]",
      "text/plain": [
       "<Figure size 432x288 with 1 Axes>"
      ]
     },
     "metadata": {
      "needs_background": "light"
     },
     "output_type": "display_data"
    }
   ],
   "source": [
    "import matplotlib.image as img\n",
    "plt.imshow(img.imread(\"test_image.webp\"))\n",
    "print(\"Predicted Result\")\n",
    "getResult()\n",
    "print(\"Test Image\")"
   ]
  },
  {
   "cell_type": "markdown",
   "metadata": {},
   "source": [
    "### Confusion Matrix\n",
    "\n",
    "In the field of machine learning and specifically the problem of statistical classification, a confusion matrix, also known as an error matrix, is a specific table layout that allows visualization of the performance of an algorithm, typically a supervised learning one (in unsupervised learning it is usually called a matching matrix). Each row of the matrix represents the instances in an actual class while each column represents the instances in a predicted class, or vice versa – both variants are found in the literature. The name stems from the fact that it makes it easy to see whether the system is confusing two classes (i.e. commonly mislabeling one as another).\n",
    "\n"
   ]
  },
  {
   "cell_type": "code",
   "execution_count": 67,
   "metadata": {
    "colab": {
     "base_uri": "https://localhost:8080/",
     "height": 606
    },
    "id": "f3t_GRmFP6q8",
    "outputId": "1b940d4f-a23b-4586-dfeb-4b190e498dcd"
   },
   "outputs": [
    {
     "data": {
      "image/png": "[encoded data removed]",
      "text/plain": [
       "<Figure size 720x720 with 1 Axes>"
      ]
     },
     "metadata": {
      "needs_background": "light"
     },
     "output_type": "display_data"
    }
   ],
   "source": [
    "import seaborn as sns\n",
    "from sklearn.metrics import confusion_matrix\n",
    "\n",
    "fig = plt.figure(figsize=(10, 10))\n",
    "\n",
    "trainX,trainY,testX,testY=getSplitDataSet()\n",
    "\n",
    "y_pred = load_model(\"model.h5\").predict(testX)\n",
    "\n",
    "Y_pred = argmax(y_pred, 1)\n",
    "\n",
    "Y_test = argmax(testY, 1)\n",
    "\n",
    "mat = confusion_matrix(Y_test, Y_pred) # Confusion matrix\n",
    "\n",
    "\n",
    "\n",
    "# Plot Confusion matrix\n",
    "sns.heatmap(mat.T, square=True, annot=True, cbar=False, cmap=plt.cm.Blues)\n",
    "\n",
    "\n",
    "\n",
    "\n",
    "plt.xlabel('Predicted Values')\n",
    "plt.ylabel('True Values');\n",
    "plt.show();"
   ]
  }
 ],
 "metadata": {
  "colab": {
   "collapsed_sections": [],
   "name": "2018103013_DL_ASSIGNMENT_2.ipynb",
   "provenance": []
  },
  "kernelspec": {
   "display_name": "Python 3",
   "language": "python",
   "name": "python3"
  },
  "language_info": {
   "codemirror_mode": {
    "name": "ipython",
    "version": 3
   },
   "file_extension": ".py",
   "mimetype": "text/x-python",
   "name": "python",
   "nbconvert_exporter": "python",
   "pygments_lexer": "ipython3",
   "version": "3.8.5"
  }
 },
 "nbformat": 4,
 "nbformat_minor": 4
}
